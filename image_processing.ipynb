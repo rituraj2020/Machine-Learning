{
 "cells": [
  {
   "cell_type": "markdown",
   "metadata": {},
   "source": [
    "# Using ASW Textract to Fetch Data"
   ]
  },
  {
   "cell_type": "code",
   "execution_count": null,
   "metadata": {},
   "outputs": [],
   "source": [
    "#Detects text in a document stored in an S3 bucket. Display polygon box around text and angled text \n",
    "import boto3\n",
    "import io\n",
    "from io import BytesIO\n",
    "import sys\n",
    "import os\n",
    "import pandas as pd\n",
    "from PIL import Image, ImageDraw, ImageFont,ImageOps\n",
    "import matplotlib.pyplot as plt\n",
    "%matplotlib inline\n",
    "import re\n",
    "\n",
    "os.environ['AWS_DEFAULT_REGION'] = 'us-east-2'\n",
    "\n",
    "info=[]\n",
    "def process_text_detection(bucket, document):\n",
    "    text=[]\n",
    "    #Get the document from S3\n",
    "    s3_connection = boto3.resource('s3')\n",
    "    s3_object = s3_connection.Object(bucket,document)\n",
    "    s3_response = s3_object.get()\n",
    "    stream = io.BytesIO(s3_response['Body'].read())\n",
    "     #Image processing--->> \n",
    "    image=Image.open(stream)\n",
    "    enh_bri = ImageEnhance.Brightness(image)\n",
    "    brightness = 1\n",
    "    image_brightened = enh_bri.enhance(brightness)\n",
    "    # increasing color by factor of 2\n",
    "    enh_col = ImageEnhance.Color(image_brightened)\n",
    "    color =2\n",
    "    image_colored = enh_col.enhance(color)\n",
    "    #changing image to grayscale\n",
    "    im2=ImageOps.grayscale(image_colored)\n",
    "    #increasing the contrast of the image\n",
    "    enh_con = ImageEnhance.Contrast(im2)\n",
    "    contrast=1.3\n",
    "    image_contrasted = enh_con.enhance(contrast)\n",
    "    #increasing the sharpness of the image\n",
    "    enh_sha = ImageEnhance.Sharpness(image_contrasted)\n",
    "    sharp=3\n",
    "    image_sharped = enh_sha.enhance(sharp)\n",
    "    imgByteArr = io.BytesIO()\n",
    "    image_sharped.save(imgByteArr, format='PNG')\n",
    "    imgByteArr = imgByteArr.getvalue()\n",
    "    # Detect text in the document\n",
    "    \n",
    "    client = boto3.client('textract')\n",
    "    #process using image bytes                      \n",
    "    #image_binary = im2.getvalue()\n",
    "    response = client.detect_document_text(Document={'Bytes': imgByteArr})\n",
    "    #Get the text blocks\n",
    "    blocks=response['Blocks']  \n",
    "    #print ('Detected Document Text')\n",
    "    for block in blocks:\n",
    "            if block['BlockType'] != 'PAGE':\n",
    "                text.append(block['Text'])\n",
    "    return (\" \".join(text))"
   ]
  },
  {
   "cell_type": "markdown",
   "metadata": {},
   "source": [
    "# Getting the list of files contained in the s3 bucket"
   ]
  },
  {
   "cell_type": "code",
   "execution_count": 1173,
   "metadata": {},
   "outputs": [],
   "source": [
    "listoffiles=[]\n",
    "s3_connection = boto3.resource('s3')\n",
    "bucketl = s3_connection.Bucket('drivinglicense')\n",
    "for obj in bucketl.objects.all():\n",
    "    listoffiles.append(obj.key)\n",
    "newlist=listoffiles"
   ]
  },
  {
   "cell_type": "markdown",
   "metadata": {},
   "source": [
    "# Creating a List of files contained in s3 bucket"
   ]
  },
  {
   "cell_type": "code",
   "execution_count": 1338,
   "metadata": {},
   "outputs": [],
   "source": [
    "# Input to be given here , \n",
    "#the first arguement of the function process_text_detection contains the name of the bucket in s3(AWS)\n",
    "#the second arguement of the function process_text_detection contains the name of the files "
   ]
  },
  {
   "cell_type": "code",
   "execution_count": 1337,
   "metadata": {},
   "outputs": [],
   "source": [
    "p=[]\n",
    "for i in range(46):\n",
    "    p.append(process_text_detection('drivinglicense',listoffiles[i])) #input the s3 bucket name and name of files here"
   ]
  },
  {
   "cell_type": "code",
   "execution_count": null,
   "metadata": {},
   "outputs": [],
   "source": [
    "# creating a dataframe of the extracted data from the Textract API\n",
    "#column content contains all the data"
   ]
  },
  {
   "cell_type": "code",
   "execution_count": 1179,
   "metadata": {
    "scrolled": false
   },
   "outputs": [],
   "source": [
    "df=pd.DataFrame({'Image_name':listoffiles,'Content':p})"
   ]
  },
  {
   "cell_type": "code",
   "execution_count": null,
   "metadata": {},
   "outputs": [],
   "source": []
  },
  {
   "cell_type": "markdown",
   "metadata": {},
   "source": [
    "# Getting the License plate number"
   ]
  },
  {
   "cell_type": "code",
   "execution_count": 1181,
   "metadata": {
    "scrolled": false
   },
   "outputs": [],
   "source": [
    "drivinglicense=[]\n",
    "for i in range(46):\n",
    "    p=[]\n",
    "    p=re.findall(\"DL[\\w]{3,4}[\\s]{0,1}[\\w]{4,5}\",df['Content'][i]) #using regular expression to fetch the Driving license\n",
    "    #The DL as the arguement above can be modified to fetch data of any other state\n",
    "    if len(p)>1:\n",
    "        drivinglicense.append(p.pop(1))\n",
    "    else:\n",
    "        drivinglicense.append(p)"
   ]
  },
  {
   "cell_type": "code",
   "execution_count": 1182,
   "metadata": {},
   "outputs": [],
   "source": [
    "df['license_plate_number']=drivinglicense"
   ]
  },
  {
   "cell_type": "code",
   "execution_count": null,
   "metadata": {},
   "outputs": [],
   "source": []
  },
  {
   "cell_type": "markdown",
   "metadata": {},
   "source": [
    "# Name from the text"
   ]
  },
  {
   "cell_type": "code",
   "execution_count": 1339,
   "metadata": {},
   "outputs": [],
   "source": [
    "#Used regular expression to fetch the name data \n",
    "#Regular Expression to fetch data with the various outout format has been incorporated "
   ]
  },
  {
   "cell_type": "code",
   "execution_count": 1193,
   "metadata": {},
   "outputs": [],
   "source": [
    "name=[]\n",
    "for i in range(46):\n",
    "    p=[]\n",
    "    p=re.findall(\"MR[\\W]{0,1}[\\s]{1}([\\w]{2,}[\\s]{0,1}[\\w]{2,})\",df['Content'][i])\n",
    "    if len(p)>=1:\n",
    "        name.append(p.pop(1))\n",
    "    else:\n",
    "        p=re.findall(\"Owner's N[\\w]{3,4}[\\s]{1}([\\w]{2,}[\\W]{0,1}[\\s]{0,1}[\\w]{2,})\",df['Content'][i])\n",
    "        if len(p)>=1:\n",
    "            name.append(p.pop(1))\n",
    "        else:\n",
    "            p=re.findall(\"Owner's Name[\\s]{1}([\\w]{2,})\",df['Content'][i])\n",
    "            if len(p)>=1:\n",
    "                name.append(p.pop(1))\n",
    "            else:\n",
    "                p=re.findall(\"Dealer's N[\\w]{3,4}[\\s]{1}([\\w]{2,}[\\W]{0,1}[\\s]{0,1}[\\w]{2,})\",df['Content'][i])\n",
    "                if len(p)>=1:\n",
    "                    name.append(\"No Name Available\")\n",
    "                else:\n",
    "                    p=re.findall(\"Name & Address ([\\w]{2,}[\\s]{1,}[\\w]{2,})\",df['Content'][i])\n",
    "                    if len(p)>=1:\n",
    "                        name.append(p.pop(1))\n",
    "                    else:\n",
    "                        p=re.findall(\"Name &Address ([\\w]{2,})\",df['Content'][i])\n",
    "                        if len(p)>=1:\n",
    "                            name.append(p.pop(1))\n",
    "                        else:\n",
    "                            p=re.findall(\"NAME ([\\w]{2,}[\\s]{1}[\\w]{2,})\",df['Content'][i])\n",
    "                            if len(p)>=1:\n",
    "                                name.append(p.pop(1))\n",
    "                            else:\n",
    "                                p=re.findall(\"NAME - ([\\w]{2,}[\\s]{1}[\\w]{2,})\",df['Content'][i])\n",
    "                                if len(p)>=1:\n",
    "                                    name.append(p.pop(1))\n",
    "                                else:\n",
    "                                    p=re.findall(\"NAME I ([\\w]{2,}[\\s]{1}[\\w]{2,})\",df['Content'][i])\n",
    "                                    if len(p)>=1:\n",
    "                                        name.append(p.pop(1))\n",
    "                                    else:\n",
    "                                        p=re.findall(\"N[\\w]{3,4}[\\s]{1}([\\w]{2,})\",df['Content'][i])\n",
    "                                        if len(p)>=1:\n",
    "                                            name.append(p.pop(1))\n",
    "                                        else:\n",
    "                                            p=re.findall(\"Name. ([\\w]{2,}[\\s]{1,}[\\w]{2,})\",df['Content'][i])\n",
    "                                            if len(p)>=1:\n",
    "                                                name.append(p.pop(1))\n",
    "                                            else:\n",
    "                                                p=re.findall(\"Name[\\s]{1}[-]{0,1}[\\s]{0,1}([\\w]{2,}[\\s]{1,}[\\w]{2,})\",df['Content'][i])\n",
    "                                                if len(p)>=1:\n",
    "                                                    name.append(p.pop(1))\n",
    "                                                else:\n",
    "                                                    name.append(p)\n",
    "                                            \n",
    "\n"
   ]
  },
  {
   "cell_type": "code",
   "execution_count": 1196,
   "metadata": {},
   "outputs": [],
   "source": [
    "df['Name_Owner']=name"
   ]
  },
  {
   "cell_type": "markdown",
   "metadata": {},
   "source": [
    "# Fetching the registration number in the RCs"
   ]
  },
  {
   "cell_type": "code",
   "execution_count": 1198,
   "metadata": {},
   "outputs": [],
   "source": [
    "registration_num=[]\n",
    "for i in range(46):\n",
    "    p=[]\n",
    "    p=re.findall(\"HR[\\w]{3}[\\s]{0,1}[\\w]{4}\",df['Content'][i])\n",
    "    if len(p)>=1:\n",
    "        registration_num.append(p.pop(1))\n",
    "    else:\n",
    "        p=re.findall(\"HR[\\w]{2}-{1,2}[\\w]{1}-[\\w]{4}\",df['Content'][i])\n",
    "        if len(p)>=1:\n",
    "            registration_num.append(p.pop(1))\n",
    "        else:\n",
    "            registration_num.append(p)"
   ]
  },
  {
   "cell_type": "code",
   "execution_count": 1199,
   "metadata": {},
   "outputs": [],
   "source": [
    "df['Registration_number']=registration_num"
   ]
  },
  {
   "cell_type": "markdown",
   "metadata": {},
   "source": [
    "# VIN NUMBER OR CHASIS NUMBER"
   ]
  },
  {
   "cell_type": "code",
   "execution_count": null,
   "metadata": {},
   "outputs": [],
   "source": [
    "#using regular expression to fetch chasis number based on the pattern in which they occur"
   ]
  },
  {
   "cell_type": "code",
   "execution_count": 1201,
   "metadata": {},
   "outputs": [],
   "source": [
    "chasis_num=[]\n",
    "for i in range(46):\n",
    "    p=[]\n",
    "    p=re.findall(\"M[\\w]{15}\",df['Content'][i])\n",
    "    if len(p)>1:\n",
    "        chasis_num.append(p.pop(1))\n",
    "    else:\n",
    "        p=re.findall(\"[\\d]{6}[\\w]{9}\",df['Content'][i])\n",
    "        if len(p)>1:\n",
    "            chasis_num.append(p.pop(1))\n",
    "        else:   \n",
    "            chasis_num.append(p)\n"
   ]
  },
  {
   "cell_type": "code",
   "execution_count": 1202,
   "metadata": {},
   "outputs": [],
   "source": [
    "df['chasis_num']=chasis_num"
   ]
  },
  {
   "cell_type": "code",
   "execution_count": null,
   "metadata": {},
   "outputs": [],
   "source": []
  },
  {
   "cell_type": "markdown",
   "metadata": {},
   "source": [
    "# Getting the Engine Number"
   ]
  },
  {
   "cell_type": "code",
   "execution_count": null,
   "metadata": {},
   "outputs": [],
   "source": [
    "#Using the regular expression to fetch Engine Number"
   ]
  },
  {
   "cell_type": "code",
   "execution_count": 1291,
   "metadata": {},
   "outputs": [],
   "source": [
    "enginer_number=[]\n",
    "for i in range(46):\n",
    "    e=[]\n",
    "    e=re.findall(\"E NO[\\s]{1}([\\w]{7,})\",df['Content'][i])\n",
    "    if len(e)>1:\n",
    "        enginer_number.append(e.pop(1))\n",
    "    else:\n",
    "        e=re.findall(\"E[\\s]{0,1}NO[\\s]{1}-{0,1}[\\w]{0,1}[\\s]{0,1}([\\w]{7,})\",df['Content'][i])\n",
    "        if len(e)>1:\n",
    "            enginer_number.append(e.pop(1))\n",
    "        else:\n",
    "            e=re.findall(\"Engine No. ([\\w]{7,})\",df['Content'][i])\n",
    "            if len(e)>1:\n",
    "                enginer_number.append(e.pop(1))\n",
    "            else:\n",
    "                e=re.findall(\"Engine ([\\w]{5,}[\\s]{0,1}[\\d]{2,7})\",df['Content'][i])\n",
    "                if len(e)>1:\n",
    "                    enginer_number.append(e.pop(1))\n",
    "                else:\n",
    "                    enginer_number.append(e)\n"
   ]
  },
  {
   "cell_type": "code",
   "execution_count": 1293,
   "metadata": {},
   "outputs": [],
   "source": [
    "df['engine_number']=enginer_number"
   ]
  },
  {
   "cell_type": "code",
   "execution_count": null,
   "metadata": {
    "scrolled": false
   },
   "outputs": [],
   "source": []
  },
  {
   "cell_type": "markdown",
   "metadata": {},
   "source": [
    "# Getting the Reg date "
   ]
  },
  {
   "cell_type": "code",
   "execution_count": 1306,
   "metadata": {},
   "outputs": [],
   "source": [
    "registration_date=[]\n",
    "for i in range(46):\n",
    "    p=[]\n",
    "    p=re.findall(\"REG. DT: (\\d\\d/\\d\\d/\\d\\d)\",df['Content'][i])\n",
    "    if len(p)>1:\n",
    "        registration_date.append(p.pop(1))\n",
    "    else:\n",
    "        registration_date.append(p)         "
   ]
  },
  {
   "cell_type": "code",
   "execution_count": 1309,
   "metadata": {},
   "outputs": [],
   "source": [
    "df['Registration_Date']=registration_date"
   ]
  },
  {
   "cell_type": "markdown",
   "metadata": {},
   "source": [
    "# Getting the Manufacturing Date"
   ]
  },
  {
   "cell_type": "code",
   "execution_count": 1331,
   "metadata": {},
   "outputs": [],
   "source": [
    "manufacturing_date=[]\n",
    "for i in range(46):\n",
    "    p=[]\n",
    "    p=re.findall(\"M[\\w]{2}[\\W]{0,1}[\\s]{0,1}DT[\\W]{0,1}[\\s][\\W]{0,1}[\\s]{0,1}(\\d{0,1}\\d/\\d\\d\\d\\d)\",df['Content'][i])\n",
    "    if len(p)>1:\n",
    "        manufacturing_date.append(p.pop(1))\n",
    "    else:\n",
    "        p=re.findall(\"Year of Mfg. (\\d{0,1}\\d/\\d\\d\\d\\d)\",df['Content'][i])\n",
    "        if len(p)>1:\n",
    "            manufacturing_date.append(p.pop(1))\n",
    "        else:\n",
    "            manufacturing_date.append(p)  "
   ]
  },
  {
   "cell_type": "code",
   "execution_count": 1334,
   "metadata": {},
   "outputs": [],
   "source": [
    "df['manufacturing_date']=manufacturing_date"
   ]
  },
  {
   "cell_type": "markdown",
   "metadata": {},
   "source": [
    "# Exporting the dataframe into a csv file"
   ]
  },
  {
   "cell_type": "code",
   "execution_count": 1340,
   "metadata": {},
   "outputs": [],
   "source": [
    "df.to_csv(\"data_rc.csv\")"
   ]
  },
  {
   "cell_type": "code",
   "execution_count": null,
   "metadata": {},
   "outputs": [],
   "source": []
  }
 ],
 "metadata": {
  "kernelspec": {
   "display_name": "Python 3",
   "language": "python",
   "name": "python3"
  },
  "language_info": {
   "codemirror_mode": {
    "name": "ipython",
    "version": 3
   },
   "file_extension": ".py",
   "mimetype": "text/x-python",
   "name": "python",
   "nbconvert_exporter": "python",
   "pygments_lexer": "ipython3",
   "version": "3.7.3"
  }
 },
 "nbformat": 4,
 "nbformat_minor": 2
}
